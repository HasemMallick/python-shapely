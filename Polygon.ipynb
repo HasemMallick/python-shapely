{
 "cells": [
  {
   "cell_type": "markdown",
   "metadata": {},
   "source": [
    "## Polygon\n",
    "\n",
    "The Polygon constructor takes two positional parameters. The first is an ordered sequence of (x, y[, z]) point tuples and is treated exactly as in the LinearRing case. The second is an optional unordered sequence of ring-like sequences specifying the interior boundaries or “holes” of the feature.\n"
   ]
  },
  {
   "cell_type": "code",
   "execution_count": 11,
   "metadata": {},
   "outputs": [],
   "source": [
    "from shapely import Polygon, LinearRing, LinearRing"
   ]
  },
  {
   "cell_type": "code",
   "execution_count": 3,
   "metadata": {},
   "outputs": [
    {
     "data": {
      "image/svg+xml": [
       "<svg xmlns=\"http://www.w3.org/2000/svg\" xmlns:xlink=\"http://www.w3.org/1999/xlink\" width=\"100.0\" height=\"100.0\" viewBox=\"-0.04 -0.04 1.08 1.08\" preserveAspectRatio=\"xMinYMin meet\"><g transform=\"matrix(1,0,0,-1,0,1.0)\"><path fill-rule=\"evenodd\" fill=\"#66cc99\" stroke=\"#555555\" stroke-width=\"0.0216\" opacity=\"0.6\" d=\"M 0.0,0.0 L 1.0,1.0 L 1.0,0.0 L 0.0,0.0 z\" /></g></svg>"
      ],
      "text/plain": [
       "<POLYGON ((0 0, 1 1, 1 0, 0 0))>"
      ]
     },
     "execution_count": 3,
     "metadata": {},
     "output_type": "execute_result"
    }
   ],
   "source": [
    "polygon = Polygon([(0, 0), (1, 1), (1, 0)])\n",
    "polygon"
   ]
  },
  {
   "cell_type": "code",
   "execution_count": 5,
   "metadata": {},
   "outputs": [
    {
     "data": {
      "text/plain": [
       "0.5"
      ]
     },
     "execution_count": 5,
     "metadata": {},
     "output_type": "execute_result"
    }
   ],
   "source": [
    "## A Polygon has non-zero area and non-zero length.\n",
    "polygon.area"
   ]
  },
  {
   "cell_type": "code",
   "execution_count": 6,
   "metadata": {},
   "outputs": [
    {
     "data": {
      "text/plain": [
       "3.414213562373095"
      ]
     },
     "execution_count": 6,
     "metadata": {},
     "output_type": "execute_result"
    }
   ],
   "source": [
    "polygon.length"
   ]
  },
  {
   "cell_type": "code",
   "execution_count": 8,
   "metadata": {},
   "outputs": [
    {
     "data": {
      "text/plain": [
       "(0.0, 0.0, 1.0, 1.0)"
      ]
     },
     "execution_count": 8,
     "metadata": {},
     "output_type": "execute_result"
    }
   ],
   "source": [
    "polygon.bounds"
   ]
  },
  {
   "cell_type": "code",
   "execution_count": 9,
   "metadata": {},
   "outputs": [
    {
     "data": {
      "text/plain": [
       "[(0.0, 0.0), (1.0, 1.0), (1.0, 0.0), (0.0, 0.0)]"
      ]
     },
     "execution_count": 9,
     "metadata": {},
     "output_type": "execute_result"
    }
   ],
   "source": [
    "list(polygon.exterior.coords)"
   ]
  },
  {
   "cell_type": "code",
   "execution_count": 10,
   "metadata": {},
   "outputs": [
    {
     "data": {
      "text/plain": [
       "[]"
      ]
     },
     "execution_count": 10,
     "metadata": {},
     "output_type": "execute_result"
    }
   ],
   "source": [
    "list(polygon.interiors)"
   ]
  },
  {
   "cell_type": "markdown",
   "metadata": {},
   "source": [
    "### The Polygon constructor also accepts instances of LineString and LinearRing.\n"
   ]
  },
  {
   "cell_type": "code",
   "execution_count": 13,
   "metadata": {},
   "outputs": [
    {
     "data": {
      "image/svg+xml": [
       "<svg xmlns=\"http://www.w3.org/2000/svg\" xmlns:xlink=\"http://www.w3.org/1999/xlink\" width=\"100.0\" height=\"100.0\" viewBox=\"-0.04 -0.04 1.08 1.08\" preserveAspectRatio=\"xMinYMin meet\"><g transform=\"matrix(1,0,0,-1,0,1.0)\"><path fill-rule=\"evenodd\" fill=\"#66cc99\" stroke=\"#555555\" stroke-width=\"0.0216\" opacity=\"0.6\" d=\"M 0.0,0.0 L 1.0,1.0 L 1.0,0.0 L 0.0,0.0 z\" /></g></svg>"
      ],
      "text/plain": [
       "<POLYGON ((0 0, 1 1, 1 0, 0 0))>"
      ]
     },
     "execution_count": 13,
     "metadata": {},
     "output_type": "execute_result"
    }
   ],
   "source": [
    "coords = [(0, 0), (1, 1), (1, 0)]\n",
    "\n",
    "ring = LinearRing(coords)\n",
    "# ring\n",
    "\n",
    "ply = Polygon(ring)\n",
    "ply"
   ]
  },
  {
   "cell_type": "code",
   "execution_count": 15,
   "metadata": {},
   "outputs": [
    {
     "data": {
      "text/plain": [
       "0.5"
      ]
     },
     "execution_count": 15,
     "metadata": {},
     "output_type": "execute_result"
    }
   ],
   "source": [
    "ply.area"
   ]
  },
  {
   "cell_type": "code",
   "execution_count": 20,
   "metadata": {},
   "outputs": [
    {
     "data": {
      "image/svg+xml": [
       "<svg xmlns=\"http://www.w3.org/2000/svg\" xmlns:xlink=\"http://www.w3.org/1999/xlink\" width=\"100.0\" height=\"100.0\" viewBox=\"-1.12 -1.12 3.24 3.24\" preserveAspectRatio=\"xMinYMin meet\"><g transform=\"matrix(1,0,0,-1,0,1.0)\"><path fill-rule=\"evenodd\" fill=\"#66cc99\" stroke=\"#555555\" stroke-width=\"0.06480000000000001\" opacity=\"0.6\" d=\"M 0.0,-1.0 L -0.09801714032956045,-0.9951847266721969 L -0.19509032201612866,-0.9807852804032303 L -0.29028467725446244,-0.9569403357322088 L -0.38268343236509034,-0.9238795325112865 L -0.47139673682599786,-0.8819212643483549 L -0.5555702330196022,-0.8314696123025452 L -0.6343932841636459,-0.7730104533627367 L -0.7071067811865477,-0.7071067811865475 L -0.7730104533627371,-0.6343932841636453 L -0.8314696123025455,-0.555570233019602 L -0.881921264348355,-0.47139673682599764 L -0.9238795325112868,-0.38268343236508967 L -0.9569403357322089,-0.2902846772544621 L -0.9807852804032304,-0.19509032201612836 L -0.9951847266721969,-0.09801714032956059 L -1.0,1.2246467991473532e-16 L -0.9951847266721968,0.09801714032956083 L -0.9807852804032304,0.1950903220161286 L -0.9569403357322088,0.2902846772544624 L -0.9238795325112867,0.3826834323650899 L -0.8819212643483549,0.4713967368259978 L -0.8314696123025453,0.5555702330196022 L -0.773010453362737,0.6343932841636455 L -0.7071067811865475,0.7071067811865475 L 0.29289321881345254,1.7071067811865475 L 0.3656067158363546,1.773010453362737 L 0.44442976698039804,1.8314696123025453 L 0.5286032631740023,1.881921264348355 L 0.6173165676349103,1.9238795325112867 L 0.7097153227455378,1.956940335732209 L 0.8049096779838718,1.9807852804032304 L 0.9019828596704393,1.995184726672197 L 1.0,2.0 L 1.0980171403295609,1.9951847266721967 L 1.1950903220161284,1.9807852804032304 L 1.2902846772544623,1.956940335732209 L 1.3826834323650898,1.9238795325112867 L 1.471396736825998,1.881921264348355 L 1.5555702330196022,1.8314696123025453 L 1.6343932841636455,1.7730104533627369 L 1.7071067811865475,1.7071067811865475 L 1.7730104533627369,1.6343932841636453 L 1.8314696123025453,1.5555702330196022 L 1.881921264348355,1.4713967368259977 L 1.9238795325112867,1.3826834323650898 L 1.956940335732209,1.2902846772544623 L 1.9807852804032304,1.1950903220161284 L 1.995184726672197,1.0980171403295607 L 2.0,1.0 L 2.0,0.0 L 1.995184726672197,-0.0980171403295606 L 1.9807852804032304,-0.19509032201612825 L 1.9569403357322088,-0.29028467725446233 L 1.9238795325112867,-0.3826834323650898 L 1.881921264348355,-0.47139673682599764 L 1.8314696123025453,-0.5555702330196022 L 1.7730104533627369,-0.6343932841636455 L 1.7071067811865475,-0.7071067811865476 L 1.6343932841636455,-0.7730104533627369 L 1.5555702330196022,-0.8314696123025452 L 1.471396736825998,-0.8819212643483549 L 1.3826834323650898,-0.9238795325112867 L 1.2902846772544623,-0.9569403357322089 L 1.1950903220161284,-0.9807852804032304 L 1.0980171403295609,-0.9951847266721968 L 1.0,-1.0 L 0.0,-1.0 z M 0.0,0.0 L 1.0,1.0 L 1.0,0.0 L 0.0,0.0 z\" /></g></svg>"
      ],
      "text/plain": [
       "<POLYGON ((0 -1, -0.098 -0.995, -0.195 -0.981, -0.29 -0.957, -0.383 -0.924, ...>"
      ]
     },
     "execution_count": 20,
     "metadata": {},
     "output_type": "execute_result"
    }
   ],
   "source": [
    "t = Polygon(ply.buffer(1.0).exterior, [ring])\n",
    "t"
   ]
  },
  {
   "cell_type": "code",
   "execution_count": 21,
   "metadata": {},
   "outputs": [
    {
     "data": {
      "text/plain": [
       "6.5507620529190325"
      ]
     },
     "execution_count": 21,
     "metadata": {},
     "output_type": "execute_result"
    }
   ],
   "source": [
    "t.area"
   ]
  },
  {
   "cell_type": "markdown",
   "metadata": {},
   "source": [
    "### Rectangular polygons occur commonly, and can be conveniently constructed using the **shapely.geometry.box()** function.\n"
   ]
  },
  {
   "cell_type": "code",
   "execution_count": 22,
   "metadata": {},
   "outputs": [],
   "source": [
    "from shapely import box"
   ]
  },
  {
   "cell_type": "code",
   "execution_count": 23,
   "metadata": {},
   "outputs": [
    {
     "data": {
      "image/svg+xml": [
       "<svg xmlns=\"http://www.w3.org/2000/svg\" xmlns:xlink=\"http://www.w3.org/1999/xlink\" width=\"100.0\" height=\"100.0\" viewBox=\"-0.04 -0.04 1.08 1.08\" preserveAspectRatio=\"xMinYMin meet\"><g transform=\"matrix(1,0,0,-1,0,1.0)\"><path fill-rule=\"evenodd\" fill=\"#66cc99\" stroke=\"#555555\" stroke-width=\"0.0216\" opacity=\"0.6\" d=\"M 1.0,0.0 L 1.0,1.0 L 0.0,1.0 L 0.0,0.0 L 1.0,0.0 z\" /></g></svg>"
      ],
      "text/plain": [
       "<POLYGON ((1 0, 1 1, 0 1, 0 0, 1 0))>"
      ]
     },
     "execution_count": 23,
     "metadata": {},
     "output_type": "execute_result"
    }
   ],
   "source": [
    "b = box(0.0, 0.0, 1.0, 1.0)\n",
    "b"
   ]
  },
  {
   "cell_type": "code",
   "execution_count": 24,
   "metadata": {},
   "outputs": [
    {
     "data": {
      "text/plain": [
       "[(1.0, 0.0), (1.0, 1.0), (0.0, 1.0), (0.0, 0.0), (1.0, 0.0)]"
      ]
     },
     "execution_count": 24,
     "metadata": {},
     "output_type": "execute_result"
    }
   ],
   "source": [
    "list(b.exterior.coords)"
   ]
  }
 ],
 "metadata": {
  "kernelspec": {
   "display_name": "geogee",
   "language": "python",
   "name": "python3"
  },
  "language_info": {
   "codemirror_mode": {
    "name": "ipython",
    "version": 3
   },
   "file_extension": ".py",
   "mimetype": "text/x-python",
   "name": "python",
   "nbconvert_exporter": "python",
   "pygments_lexer": "ipython3",
   "version": "3.12.3"
  }
 },
 "nbformat": 4,
 "nbformat_minor": 2
}
